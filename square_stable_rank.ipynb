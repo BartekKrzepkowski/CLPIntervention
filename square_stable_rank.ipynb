{
 "cells": [
  {
   "cell_type": "code",
   "execution_count": null,
   "metadata": {},
   "outputs": [],
   "source": [
    "import os\n",
    "\n",
    "import torch\n",
    "from torchvision import datasets, transforms"
   ]
  },
  {
   "cell_type": "code",
   "execution_count": null,
   "metadata": {},
   "outputs": [],
   "source": [
    "BATCH_SIZE = 200\n",
    "\n",
    "# Define a transform to normalize the data\n",
    "transform = transforms.Compose([transforms.ToTensor()])\n",
    "\n",
    "# Download and load the training data\n",
    "trainset = datasets.CIFAR100(os.environ['CIFAR100_PATH'], download=False, train=True, transform=transform)\n",
    "trainloader = torch.utils.data.DataLoader(trainset, batch_size=BATCH_SIZE, shuffle=True)\n",
    "\n",
    "# Get the first batch of images and labels\n",
    "images, labels = next(iter(trainloader))\n",
    "\n",
    "# Convert labels to float\n",
    "labels = labels.float()\n",
    "\n",
    "# Now, both `images` and `labels` are tensors of floats"
   ]
  },
  {
   "cell_type": "code",
   "execution_count": null,
   "metadata": {},
   "outputs": [],
   "source": [
    "# Get the first batch of images and labels\n",
    "images, labels = next(iter(trainloader))\n",
    "\n",
    "# Convert labels to float\n",
    "labels = labels.float()\n",
    "\n",
    "t = images.reshape(BATCH_SIZE, -1)\n",
    "\n",
    "# t = torch.randn(10, 100)\n",
    "# t = torch.arange(int(1e7)).reshape(100,-1).float()"
   ]
  },
  {
   "cell_type": "markdown",
   "metadata": {},
   "source": [
    "# A @ A.T vs A.T @ A - the same eigenvalues (till some point)"
   ]
  },
  {
   "cell_type": "code",
   "execution_count": null,
   "metadata": {},
   "outputs": [],
   "source": [
    "b1 = t @ t.T\n",
    "b2 = t.T @ t"
   ]
  },
  {
   "cell_type": "code",
   "execution_count": null,
   "metadata": {},
   "outputs": [],
   "source": [
    "torch.linalg.eig(b1)[0][:7].float().sort(descending=True)[0]"
   ]
  },
  {
   "cell_type": "code",
   "execution_count": null,
   "metadata": {},
   "outputs": [],
   "source": [
    "torch.linalg.eig(b2)[0][:7].float().sort(descending=True)[0]"
   ]
  },
  {
   "cell_type": "code",
   "execution_count": null,
   "metadata": {},
   "outputs": [],
   "source": [
    "torch.linalg.eig(b1)[0].float()"
   ]
  },
  {
   "cell_type": "code",
   "execution_count": null,
   "metadata": {},
   "outputs": [],
   "source": [
    "torch.linalg.eig(b2)[0].float()[:20]"
   ]
  },
  {
   "cell_type": "code",
   "execution_count": null,
   "metadata": {},
   "outputs": [],
   "source": [
    "torch.trace(b1)"
   ]
  },
  {
   "cell_type": "code",
   "execution_count": null,
   "metadata": {},
   "outputs": [],
   "source": [
    "torch.linalg.eig(b1)[0].float().sum()"
   ]
  },
  {
   "cell_type": "markdown",
   "metadata": {},
   "source": [
    "# Problem with covariace"
   ]
  },
  {
   "cell_type": "code",
   "execution_count": null,
   "metadata": {},
   "outputs": [],
   "source": [
    "c1 = t @ t.T\n",
    "w = t - t.mean(axis=0, keepdim=True)\n",
    "c2 = w @ w.T\n",
    "c2 = torch.cov(t)"
   ]
  },
  {
   "cell_type": "code",
   "execution_count": null,
   "metadata": {},
   "outputs": [],
   "source": [
    "c1.shape, c2.shape"
   ]
  },
  {
   "cell_type": "code",
   "execution_count": null,
   "metadata": {},
   "outputs": [],
   "source": [
    "singular_squared1 = torch.linalg.eig(c1)[0].float()\n",
    "singular_squared1"
   ]
  },
  {
   "cell_type": "code",
   "execution_count": null,
   "metadata": {},
   "outputs": [],
   "source": [
    "singular_squared2 = torch.linalg.eig(c2)[0].float()\n",
    "singular_squared2"
   ]
  },
  {
   "cell_type": "code",
   "execution_count": null,
   "metadata": {},
   "outputs": [],
   "source": [
    "singular_squared1.sum() / max(singular_squared1), singular_squared2.sum() / max(singular_squared2)"
   ]
  },
  {
   "cell_type": "code",
   "execution_count": null,
   "metadata": {},
   "outputs": [],
   "source": [
    "max(singular_squared1), max(singular_squared2)"
   ]
  },
  {
   "cell_type": "code",
   "execution_count": null,
   "metadata": {},
   "outputs": [],
   "source": [
    "torch.linalg.matrix_rank(c1), torch.linalg.matrix_rank(c2)"
   ]
  },
  {
   "cell_type": "markdown",
   "metadata": {},
   "source": [
    "# Normalizacja wektorów"
   ]
  },
  {
   "cell_type": "code",
   "execution_count": null,
   "metadata": {},
   "outputs": [],
   "source": [
    "n = t / (torch.norm(t, dim=1, keepdim=True) + 1e-8)\n",
    "w_ = n - n.mean(axis=0, keepdim=True)"
   ]
  },
  {
   "cell_type": "code",
   "execution_count": null,
   "metadata": {},
   "outputs": [],
   "source": [
    "c1 = n @ n.T\n",
    "w = w_ / (torch.norm(w_, dim=1, keepdim=True) + 1e-8)\n",
    "c2 = w @ w.T\n",
    "# c2 = torch.cov(t)  # nie ma sensu"
   ]
  },
  {
   "cell_type": "code",
   "execution_count": null,
   "metadata": {},
   "outputs": [],
   "source": [
    "singular_squared1 = torch.linalg.eig(c1)[0].float()\n",
    "singular_squared1"
   ]
  },
  {
   "cell_type": "code",
   "execution_count": null,
   "metadata": {},
   "outputs": [],
   "source": [
    "singular_squared2 = torch.linalg.eig(c2)[0].float()\n",
    "singular_squared2"
   ]
  },
  {
   "cell_type": "code",
   "execution_count": null,
   "metadata": {},
   "outputs": [],
   "source": [
    "singular_squared1.sum() / max(singular_squared1), singular_squared2.sum() / max(singular_squared2)"
   ]
  },
  {
   "cell_type": "code",
   "execution_count": null,
   "metadata": {},
   "outputs": [],
   "source": [
    "max(singular_squared1), max(singular_squared2)"
   ]
  },
  {
   "cell_type": "code",
   "execution_count": null,
   "metadata": {},
   "outputs": [],
   "source": [
    "torch.linalg.matrix_rank(c1), torch.linalg.matrix_rank(c2)"
   ]
  },
  {
   "cell_type": "markdown",
   "metadata": {},
   "source": [
    "# Basics"
   ]
  },
  {
   "cell_type": "code",
   "execution_count": null,
   "metadata": {},
   "outputs": [],
   "source": [
    "import matplotlib.pyplot as plt\n",
    "import numpy as np\n",
    "\n",
    "def plot_vectors_3d(vectors):\n",
    "    fig = plt.figure()\n",
    "    ax = fig.add_subplot(111, projection='3d')\n",
    "\n",
    "    for vector in vectors:\n",
    "        ax.quiver(0, 0, 0, vector[0], vector[1], vector[2])\n",
    "\n",
    "    ax.set_xlim([0, 1])\n",
    "    ax.set_ylim([0, 1])\n",
    "    ax.set_zlim([0, 1])\n",
    "    plt.show()\n",
    "\n",
    "# Usage\n",
    "vectors = [np.array([1, 0, 0]), np.array([0, 1, 0]), np.array([0, 0, 1])]\n",
    "plot_vectors_3d(vectors)"
   ]
  },
  {
   "cell_type": "code",
   "execution_count": null,
   "metadata": {},
   "outputs": [],
   "source": [
    "A = torch.tensor([[1, 0, 0], [-1, 0, 0]]).float()\n",
    "eig_val, eig_vec = torch.linalg.eig(A.T @ A)\n",
    "print(eig_val.float(), eig_vec.float())\n",
    "vectors = torch.cat((A, eig_vec.float()), axis=0)\n",
    "plot_vectors_3d(vectors)"
   ]
  },
  {
   "cell_type": "code",
   "execution_count": null,
   "metadata": {},
   "outputs": [],
   "source": [
    "torch.linalg.svd(A)"
   ]
  },
  {
   "cell_type": "code",
   "execution_count": null,
   "metadata": {},
   "outputs": [],
   "source": [
    "A = torch.tensor([[1, 0, 0], [1, 1, 0]]).float()\n",
    "eig_val, eig_vec = torch.linalg.eig(A.T @ A)\n",
    "print(eig_val.float(), eig_vec.float())\n",
    "vectors = torch.cat((A, eig_vec.float().T), axis=0)\n",
    "plot_vectors_3d(vectors)"
   ]
  },
  {
   "cell_type": "code",
   "execution_count": null,
   "metadata": {},
   "outputs": [],
   "source": [
    "A = torch.randn(2, 10)\n",
    "eig_val, eig_vec = torch.linalg.eig(A.T @ A)"
   ]
  },
  {
   "cell_type": "code",
   "execution_count": null,
   "metadata": {},
   "outputs": [],
   "source": [
    "mean = A.mean(axis=0, keepdim=True)\n",
    "norm_mean = mean / torch.norm(mean, dim=1, keepdim=True)\n",
    "(eig_vec.float().T @ norm_mean.T) # czy kierunek największej wariancji jest średnią ze wszystkich wektorów -> NIE"
   ]
  },
  {
   "cell_type": "code",
   "execution_count": null,
   "metadata": {},
   "outputs": [],
   "source": [
    "norm_mean.T"
   ]
  },
  {
   "cell_type": "code",
   "execution_count": null,
   "metadata": {},
   "outputs": [],
   "source": [
    "eig_vec @ torch.diag(eig_val) @ eig_vec.T"
   ]
  },
  {
   "cell_type": "code",
   "execution_count": null,
   "metadata": {},
   "outputs": [],
   "source": [
    "A.T @ A"
   ]
  },
  {
   "cell_type": "code",
   "execution_count": null,
   "metadata": {},
   "outputs": [],
   "source": []
  },
  {
   "cell_type": "code",
   "execution_count": null,
   "metadata": {},
   "outputs": [],
   "source": []
  }
 ],
 "metadata": {
  "kernelspec": {
   "display_name": "clpi_env",
   "language": "python",
   "name": "python3"
  },
  "language_info": {
   "codemirror_mode": {
    "name": "ipython",
    "version": 3
   },
   "file_extension": ".py",
   "mimetype": "text/x-python",
   "name": "python",
   "nbconvert_exporter": "python",
   "pygments_lexer": "ipython3",
   "version": "3.10.13"
  }
 },
 "nbformat": 4,
 "nbformat_minor": 2
}

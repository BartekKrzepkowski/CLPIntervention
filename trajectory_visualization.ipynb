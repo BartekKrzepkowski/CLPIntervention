{
 "cells": [
  {
   "cell_type": "code",
   "execution_count": null,
   "metadata": {},
   "outputs": [],
   "source": [
    "import matplotlib.pyplot as plt\n",
    "import numpy as np\n",
    "import umap\n",
    "import torch\n",
    "from sklearn.decomposition import PCA\n",
    "from sklearn.manifold import TSNE"
   ]
  },
  {
   "cell_type": "code",
   "execution_count": null,
   "metadata": {},
   "outputs": [],
   "source": [
    "from src.utils.utils_model import load_model_specific_params\n",
    "from src.utils.prepare import prepare_model\n",
    "\n",
    "def load_model(model_name, checkpoint_path):\n",
    "    model_params = load_model_specific_params(model_name)\n",
    "    model_params = {\n",
    "        'num_classes': 10,\n",
    "        'input_channels': 3,\n",
    "        'img_height': 32,\n",
    "        'img_width': 32,\n",
    "        'overlap': 00,\n",
    "        **model_params\n",
    "        }\n",
    "        \n",
    "    model = prepare_model(model_name, model_params=model_params)\n",
    "    model.load_state_dict(torch.load(checkpoint_path, map_location=torch.device('cpu')))\n",
    "    return model\n",
    "\n",
    "models = []\n",
    "epochs = [0,20,40,60,80,120,160]"
   ]
  },
  {
   "cell_type": "code",
   "execution_count": null,
   "metadata": {},
   "outputs": [],
   "source": [
    "# HEALTHY1\n",
    "model_name = 'mm_resnet'\n",
    "for epoch in epochs:\n",
    "    checkpoint_path = f'/net/pr2/projects/plgrid/plgg_ccbench/bartek/reports2/all_at_once, training with phase1=0, phase2=180, phase3=0, phase4=0, mm_cifar10, mm_resnet, sgd, overlap=0.0_lr=0.5_wd=0.0_lambda=1.0/2023-12-22_03-19-13/checkpoints/model_step_epoch_{epoch}.pth'\n",
    "\n",
    "    model_clean = load_model(model_name, checkpoint_path)\n",
    "    models.append(model_clean.left_branch)\n",
    "    # models.append(model_clean.right_branch)"
   ]
  },
  {
   "cell_type": "code",
   "execution_count": null,
   "metadata": {},
   "outputs": [],
   "source": [
    "# HEALTHY2\n",
    "model_name = 'mm_resnet'\n",
    "for epoch in epochs:\n",
    "    checkpoint_path = f'/net/pr2/projects/plgrid/plgg_ccbench/bartek/reports2/all_at_once, training with phase1=0, phase2=240, phase3=0, phase4=0, mm_cifar10, mm_resnet, sgd, overlap=0.0_lr=0.5_wd=0.0_lambda=1.0/2023-12-30_12-52-40/checkpoints/model_step_epoch_{epoch}.pth'\n",
    "\n",
    "    model_clean = load_model(model_name, checkpoint_path)\n",
    "    models.append(model_clean.left_branch)\n",
    "    # models.append(model_clean.right_branch)\n"
   ]
  },
  {
   "cell_type": "code",
   "execution_count": null,
   "metadata": {},
   "outputs": [],
   "source": [
    "# AMBLYOPIC1\n",
    "model_name = 'mm_resnet'\n",
    "for epoch in epochs:\n",
    "    checkpoint_path = f'/net/pr2/projects/plgrid/plgg_ccbench/bartek/reports2/all_at_once, training with phase1=180, phase2=0, phase3=0, phase4=0, mm_cifar10, mm_resnet, sgd, overlap=0.0_lr=0.5_wd=0.0_lambda=1.0/2023-12-27_06-20-56/checkpoints/model_step_epoch_{epoch}.pth'\n",
    "\n",
    "    model_clean = load_model(model_name, checkpoint_path)\n",
    "    models.append(model_clean.left_branch)\n",
    "    # models.append(model_clean.right_branch)"
   ]
  },
  {
   "cell_type": "code",
   "execution_count": null,
   "metadata": {},
   "outputs": [],
   "source": [
    "# AMBLYOPIC2\n",
    "model_name = 'mm_resnet'\n",
    "for epoch in epochs:\n",
    "    checkpoint_path = f'/net/pr2/projects/plgrid/plgg_ccbench/bartek/reports2/all_at_once, training with phase1=180, phase2=0, phase3=0, phase4=0, mm_cifar10, mm_resnet, sgd, overlap=0.0_lr=0.5_wd=0.0_lambda=1.0/2023-12-22_05-15-47/checkpoints/model_step_epoch_{epoch}.pth'\n",
    "\n",
    "    model_clean = load_model(model_name, checkpoint_path)\n",
    "    models.append(model_clean.left_branch)\n",
    "    models.append(model_clean.right_branch)"
   ]
  },
  {
   "cell_type": "code",
   "execution_count": null,
   "metadata": {},
   "outputs": [],
   "source": [
    "from adjustText import adjust_text\n",
    "\n",
    "def interleave_lists(list1, list2):\n",
    "    return [elem for pair in zip(list1, list2) for elem in pair]\n",
    "\n",
    "def model_to_array(model):\n",
    "    \"\"\"Convert PyTorch model parameters to 1D NumPy array.\"\"\"\n",
    "    return np.hstack([p.data.numpy().flatten() for p in model.parameters()])\n",
    "\n",
    "def perform_reduction(models, reducer):\n",
    "    \"\"\"Perform PCA on a list of 1D NumPy arrays and return the first two principal components.\"\"\"\n",
    "    model_arrays = [model_to_array(model) for model in models]\n",
    "    model_arrays = np.array(model_arrays)\n",
    "    if reducer == 'umap':\n",
    "        embedding = umap.UMAP(n_components=2, n_neighbors=14, min_dist=0.3, densmap=True).fit_transform(model_arrays)\n",
    "    elif reducer == 'tsne':\n",
    "        embedding = TSNE(n_components=2, perplexity=2).fit_transform(model_arrays)\n",
    "    elif reducer == 'pca':\n",
    "        embedding = PCA(n_components=2).fit_transform(model_arrays)\n",
    "    return embedding\n",
    "\n",
    "def plot_models(models, reducer):\n",
    "    \"\"\"Plot the 2D points on a lattice.\"\"\"\n",
    "    principalComponents = perform_reduction(models, reducer)\n",
    "    # colors = (np.arange(principalComponents.shape[0]) % 2 == 0).astype(int)\n",
    "    colors = (np.arange(principalComponents.shape[0]) < principalComponents.shape[0]//2).astype(int)\n",
    "    colors *= 10\n",
    "    # colors[len(colors)//2:] += 20\n",
    "    plt.figure(figsize=(12,12))\n",
    "    plt.scatter(principalComponents[:, 0], principalComponents[:, 1], c=colors)\n",
    "    tagslh = [f'{n}lh' for n in epochs]\n",
    "    # tagsrh = [f'{n}rh' for n in epochs]\n",
    "    # tags1 = interleave_lists(tagslh, tagsrh)\n",
    "    tagsla = [f'{n}la' for n in epochs]\n",
    "    # tagsra = [f'{n}ra' for n in epochs]\n",
    "    # tags2 = interleave_lists(tagsla, tagsra)\n",
    "    labels = tagslh + tagsla\n",
    "    # labels = tags1\n",
    "    # labels = tags1 + tags2\n",
    "    texts = []\n",
    "    print(labels)\n",
    "    for i, label in enumerate(labels):\n",
    "        texts.append(plt.text(principalComponents[i, 0], principalComponents[i, 1], label))\n",
    "   \n",
    "    adjust_text(texts)\n",
    "    # how to \n",
    "    plt.xlabel('Component 1')\n",
    "    plt.ylabel('Component 2')\n",
    "    plt.title(f'2D visualization of PyTorch models using {reducer}')\n",
    "    plt.show()\n"
   ]
  },
  {
   "cell_type": "code",
   "execution_count": null,
   "metadata": {},
   "outputs": [],
   "source": [
    "# Assume models is your list of PyTorch models\n",
    "plot_models(models, reducer='pca')"
   ]
  },
  {
   "cell_type": "code",
   "execution_count": null,
   "metadata": {},
   "outputs": [],
   "source": [
    "# Assume models is your list of PyTorch models\n",
    "plot_models(models, reducer='umap')"
   ]
  },
  {
   "cell_type": "code",
   "execution_count": null,
   "metadata": {},
   "outputs": [],
   "source": [
    "# Assume models is your list of PyTorch models\n",
    "plot_models(models, reducer='umap')"
   ]
  },
  {
   "cell_type": "code",
   "execution_count": null,
   "metadata": {},
   "outputs": [],
   "source": [
    "model_arrays = [model_to_array(model) for model in models]\n",
    "model_arrays = np.array(model_arrays)\n"
   ]
  },
  {
   "cell_type": "code",
   "execution_count": null,
   "metadata": {},
   "outputs": [],
   "source": [
    "# ODLEGŁOŚĆ RÓŻNYCH GAŁĘZI OD SIEBIE, TEGO SAMEGO USTAWIENIA TRWANIA FAZ\n",
    "np.sqrt(((model_arrays[0:model_arrays.shape[0]//2:2] - model_arrays[1:model_arrays.shape[0]//2:2]) ** 2).sum(axis=1))"
   ]
  },
  {
   "cell_type": "code",
   "execution_count": null,
   "metadata": {},
   "outputs": [],
   "source": [
    "# ODLEGŁOŚĆ RÓŻNYCH GAŁĘZI OD SIEBIE, TEGO SAMEGO USTAWIENIA TRWANIA FAZ\n",
    "np.sqrt(((model_arrays[model_arrays.shape[0]//2::2] - model_arrays[model_arrays.shape[0]//2+1::2]) ** 2).sum(axis=1))"
   ]
  },
  {
   "cell_type": "code",
   "execution_count": null,
   "metadata": {},
   "outputs": [],
   "source": [
    "# ODLEGŁOŚĆ TYCH SAMYCH GAŁĘZI OD SIEBIE, TEGO SAMEGO USTAWIENIA TRWANIA FAZ, LEWE\n",
    "np.sqrt(((model_arrays[0:model_arrays.shape[0]//2:2] - model_arrays[model_arrays.shape[0]//2::2]) ** 2).sum(axis=1))"
   ]
  },
  {
   "cell_type": "code",
   "execution_count": null,
   "metadata": {},
   "outputs": [],
   "source": [
    "# ODLEGŁOŚĆ TYCH SAMYCH GAŁĘZI OD SIEBIE, TEGO SAMEGO USTAWIENIA TRWANIA FAZ, PRAWE\n",
    "np.sqrt(((model_arrays[1:model_arrays.shape[0]//2:2] - model_arrays[model_arrays.shape[0]//2+1::2]) ** 2).sum(axis=1))"
   ]
  },
  {
   "cell_type": "code",
   "execution_count": null,
   "metadata": {},
   "outputs": [],
   "source": [
    "model_arrays[0], model_arrays[14]"
   ]
  },
  {
   "cell_type": "code",
   "execution_count": null,
   "metadata": {},
   "outputs": [],
   "source": [
    "np.sqrt(((model_arrays[0:model_arrays.shape[0]//2] - model_arrays[model_arrays.shape[0]//2:]) ** 2).sum(axis=1))"
   ]
  },
  {
   "cell_type": "code",
   "execution_count": null,
   "metadata": {},
   "outputs": [],
   "source": []
  },
  {
   "cell_type": "markdown",
   "metadata": {},
   "source": [
    "# Experiment with corruption of the input data"
   ]
  },
  {
   "cell_type": "code",
   "execution_count": 1,
   "metadata": {},
   "outputs": [],
   "source": [
    "import matplotlib.pyplot as plt\n",
    "import numpy as np\n",
    "import umap\n",
    "import torch\n",
    "from sklearn.decomposition import PCA\n",
    "from sklearn.manifold import TSNE"
   ]
  },
  {
   "cell_type": "code",
   "execution_count": 2,
   "metadata": {},
   "outputs": [],
   "source": [
    "from src.utils.utils_model import load_model_specific_params\n",
    "from src.utils.prepare import prepare_model\n",
    "\n",
    "def load_model(model_name, checkpoint_path):\n",
    "    model_params = load_model_specific_params(model_name)\n",
    "    model_params = {\n",
    "        'num_classes': 10,\n",
    "        'input_channels': 3,\n",
    "        'img_height': 32,\n",
    "        'img_width': 32,\n",
    "        'overlap': 00,\n",
    "        **model_params\n",
    "        }\n",
    "        \n",
    "    model = prepare_model(model_name, model_params=model_params)\n",
    "    model.load_state_dict(torch.load(checkpoint_path, map_location=torch.device('cpu')))\n",
    "    return model\n",
    "\n",
    "models = []\n",
    "epochs = [0,20,60,120, 160]"
   ]
  },
  {
   "cell_type": "code",
   "execution_count": 3,
   "metadata": {},
   "outputs": [],
   "source": [
    "# p=0\n",
    "model_name = 'mm_resnet'\n",
    "for epoch in epochs:\n",
    "    checkpoint_path = f'/net/pr2/projects/plgrid/plgg_ccbench/bartek/reports2/all_at_once, training with phase1=180, phase2=0, phase3=0, phase4=0, mm_cifar10, mm_resnet, sgd, overlap=0.0_lr=0.5_wd=0.0_lambda=1.0/2023-12-27_06-20-56/checkpoints/model_step_epoch_{epoch}.pth'\n",
    "\n",
    "    model_clean = load_model(model_name, checkpoint_path)\n",
    "    models.append(model_clean.left_branch)\n",
    "    models.append(model_clean.right_branch)"
   ]
  },
  {
   "cell_type": "code",
   "execution_count": null,
   "metadata": {},
   "outputs": [],
   "source": [
    "# p = 25\n",
    "model_name = 'mm_resnet'\n",
    "for epoch in epochs:\n",
    "    checkpoint_path = f'/net/pr2/projects/plgrid/plgg_ccbench/bartek/reports2/all_at_once, training with phase1=300, phase2=0, phase3=0, phase4=0_subset_25, mm_cifar10, mm_resnet, sgd, overlap=0.0_lr=0.5_wd=0.0_lambda=1.0/2024-02-13_21-08-28/checkpoints/model_step_epoch_{epoch}.pth'\n",
    "\n",
    "    model_clean = load_model(model_name, checkpoint_path)\n",
    "    models.append(model_clean.left_branch)\n",
    "    models.append(model_clean.right_branch)"
   ]
  },
  {
   "cell_type": "code",
   "execution_count": 4,
   "metadata": {},
   "outputs": [],
   "source": [
    "# p = 50\n",
    "model_name = 'mm_resnet'\n",
    "for epoch in epochs:\n",
    "    checkpoint_path = f'/net/pr2/projects/plgrid/plgg_ccbench/bartek/reports2/all_at_once, training with phase1=300, phase2=0, phase3=0, phase4=0_subset_50, mm_cifar10, mm_resnet, sgd, overlap=0.0_lr=0.5_wd=0.0_lambda=1.0/2024-02-13_21-27-36/checkpoints/model_step_epoch_{epoch}.pth'\n",
    "\n",
    "    model_clean = load_model(model_name, checkpoint_path)\n",
    "    models.append(model_clean.left_branch)\n",
    "    models.append(model_clean.right_branch)"
   ]
  },
  {
   "cell_type": "code",
   "execution_count": null,
   "metadata": {},
   "outputs": [],
   "source": [
    "# p = 75\n",
    "model_name = 'mm_resnet'\n",
    "for epoch in epochs:\n",
    "    checkpoint_path = f'/net/pr2/projects/plgrid/plgg_ccbench/bartek/reports2/all_at_once, training with phase1=300, phase2=0, phase3=0, phase4=0_subset_75, mm_cifar10, mm_resnet, sgd, overlap=0.0_lr=0.5_wd=0.0_lambda=1.0/2024-02-14_23-58-14/checkpoints/model_step_epoch_{epoch}.pth'\n",
    "\n",
    "    model_clean = load_model(model_name, checkpoint_path)\n",
    "    models.append(model_clean.left_branch)\n",
    "    models.append(model_clean.right_branch)"
   ]
  },
  {
   "cell_type": "code",
   "execution_count": 5,
   "metadata": {},
   "outputs": [],
   "source": [
    "# p = 100\n",
    "model_name = 'mm_resnet'\n",
    "for epoch in epochs:\n",
    "    checkpoint_path = f'/net/pr2/projects/plgrid/plgg_ccbench/bartek/reports2/all_at_once, training with phase1=0, phase2=180, phase3=0, phase4=0, mm_cifar10, mm_resnet, sgd, overlap=0.0_lr=0.5_wd=0.0_lambda=1.0/2023-12-22_03-19-13/checkpoints/model_step_epoch_{epoch}.pth'\n",
    "\n",
    "    model_clean = load_model(model_name, checkpoint_path)\n",
    "    models.append(model_clean.left_branch)\n",
    "    models.append(model_clean.right_branch)"
   ]
  },
  {
   "cell_type": "code",
   "execution_count": 6,
   "metadata": {},
   "outputs": [],
   "source": [
    "from adjustText import adjust_text\n",
    "from src.utils.utils_optim import get_every_but_forbidden_parameter_names, FORBIDDEN_LAYER_TYPES\n",
    "ps = [0, 50, 100]\n",
    "\n",
    "\n",
    "def interleave_lists(list1, list2):\n",
    "    return [elem for pair in zip(list1, list2) for elem in pair]\n",
    "\n",
    "def model_to_array(model):\n",
    "    \"\"\"Convert PyTorch model parameters to 1D NumPy array.\"\"\"\n",
    "    penalized_parameter_names = get_every_but_forbidden_parameter_names(model, FORBIDDEN_LAYER_TYPES)\n",
    "    return np.hstack([p.data.numpy().flatten() for n, p in model.named_parameters() if p.requires_grad and n in penalized_parameter_names and 'weight' in n])\n",
    "\n",
    "def perform_reduction(models, reducer):\n",
    "    \"\"\"Perform PCA on a list of 1D NumPy arrays and return the first two principal components.\"\"\"\n",
    "    model_arrays = [model_to_array(model) for model in models]\n",
    "    model_arrays = np.array(model_arrays)\n",
    "    if reducer == 'umap':\n",
    "        embedding = umap.UMAP(n_components=2, n_neighbors=16, min_dist=0.3, densmap=True).fit_transform(model_arrays)\n",
    "    elif reducer == 'tsne':\n",
    "        embedding = TSNE(n_components=2, perplexity=2).fit_transform(model_arrays)\n",
    "    elif reducer == 'pca':\n",
    "        embedding = PCA(n_components=2).fit_transform(model_arrays)\n",
    "    return embedding\n",
    "\n",
    "def plot_models(models, reducer):\n",
    "    \"\"\"Plot the 2D points on a lattice.\"\"\"\n",
    "    principalComponents = perform_reduction(models, reducer)\n",
    "    colors = (np.arange(principalComponents.shape[0]) % 2 == 0).astype(int)\n",
    "    colors *= 10\n",
    "    amp = np.repeat(np.arange(len(ps)), colors.shape[0]//len(ps)) * 10\n",
    "    print(amp)\n",
    "    colors += amp\n",
    "    plt.figure(figsize=(15,15))\n",
    "    plt.scatter(principalComponents[:, 0], principalComponents[:, 1], c=colors)\n",
    "    labels = []\n",
    "    for p in ps:\n",
    "        tagsl = [f'{p}l{n}' for n in epochs]\n",
    "        tagsr = [f'{p}r{n}' for n in epochs]\n",
    "        tags = interleave_lists(tagsl, tagsr)\n",
    "        labels += tags\n",
    " \n",
    "    texts = []\n",
    "    print(labels)\n",
    "    for i, label in enumerate(labels):\n",
    "        texts.append(plt.text(principalComponents[i, 0], principalComponents[i, 1], label))\n",
    "   \n",
    "    adjust_text(texts)\n",
    "    # how to \n",
    "    plt.xlabel('Component 1')\n",
    "    plt.ylabel('Component 2')\n",
    "    plt.title(f'2D visualization of PyTorch models using {reducer}')\n",
    "    plt.show()\n"
   ]
  },
  {
   "cell_type": "code",
   "execution_count": null,
   "metadata": {},
   "outputs": [],
   "source": [
    "# Assume models is your list of PyTorch models\n",
    "plot_models(models, reducer='pca')"
   ]
  },
  {
   "cell_type": "code",
   "execution_count": 7,
   "metadata": {},
   "outputs": [
    {
     "name": "stdout",
     "output_type": "stream",
     "text": [
      "[ 0  0  0  0  0  0  0  0  0  0 10 10 10 10 10 10 10 10 10 10 20 20 20 20\n",
      " 20 20 20 20 20 20]\n",
      "['0l0', '0r0', '0l20', '0r20', '0l60', '0r60', '0l120', '0r120', '0l160', '0r160', '50l0', '50r0', '50l20', '50r20', '50l60', '50r60', '50l120', '50r120', '50l160', '50r160', '100l0', '100r0', '100l20', '100r20', '100l60', '100r60', '100l120', '100r120', '100l160', '100r160']\n"
     ]
    },
    {
     "data": {
      "image/png": "[encoded data removed]",
      "text/plain": [
       "<Figure size 1500x1500 with 1 Axes>"
      ]
     },
     "metadata": {},
     "output_type": "display_data"
    }
   ],
   "source": [
    "# Assume models is your list of PyTorch models\n",
    "plot_models(models, reducer='umap')"
   ]
  },
  {
   "cell_type": "code",
   "execution_count": null,
   "metadata": {},
   "outputs": [],
   "source": []
  }
 ],
 "metadata": {
  "kernelspec": {
   "display_name": "clpi_env",
   "language": "python",
   "name": "python3"
  },
  "language_info": {
   "codemirror_mode": {
    "name": "ipython",
    "version": 3
   },
   "file_extension": ".py",
   "mimetype": "text/x-python",
   "name": "python",
   "nbconvert_exporter": "python",
   "pygments_lexer": "ipython3",
   "version": "3.10.13"
  }
 },
 "nbformat": 4,
 "nbformat_minor": 2
}

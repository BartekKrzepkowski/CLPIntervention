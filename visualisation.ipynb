{
 "cells": [
  {
   "cell_type": "code",
   "execution_count": null,
   "metadata": {},
   "outputs": [],
   "source": [
    "# import matplotlib\n",
    "# matplotlib.use('Qt5Agg')\n",
    "import matplotlib.pyplot as plt\n",
    "# from mpl_toolkits.mplot3d import Axes3D\n",
    "from sklearn.decomposition import PCA\n",
    "import numpy as np\n",
    "import umap\n",
    "import torch\n",
    "\n",
    "from sklearn.manifold import TSNE"
   ]
  },
  {
   "cell_type": "code",
   "execution_count": null,
   "metadata": {},
   "outputs": [],
   "source": [
    "from src.utils.utils_model import load_model_specific_params\n",
    "from src.utils.prepare import prepare_model\n",
    "\n",
    "def load_model(model_name, checkpoint_path):\n",
    "    model_params = load_model_specific_params(model_name)\n",
    "    model_params = {\n",
    "        'num_classes': 10,\n",
    "        'input_channels': 3,\n",
    "        'img_height': 32,\n",
    "        'img_width': 32,\n",
    "        'overlap': 00,\n",
    "        **model_params\n",
    "        }\n",
    "        \n",
    "    model = prepare_model(model_name, model_params=model_params)\n",
    "    model.load_state_dict(torch.load(checkpoint_path, map_location=torch.device('cpu')))\n",
    "    return model\n",
    "\n",
    "\n",
    "def trace_of_total_covariance(neurons):\n",
    "    mean_neuron = neurons.mean(axis=0)\n",
    "    neurons -= mean_neuron\n",
    "    cov_matrix = (neurons.unsqueeze(2) @ neurons.unsqueeze(1)).mean(axis=0)\n",
    "    trace = torch.trace(cov_matrix)\n",
    "    return trace"
   ]
  },
  {
   "cell_type": "code",
   "execution_count": null,
   "metadata": {},
   "outputs": [],
   "source": [
    "def display_neurons_2d(model, reducer):\n",
    "\n",
    "    # 1. Załaduj przetrenowany model ResNet50\n",
    "    model.eval()\n",
    "\n",
    "    # Przejrzyj warstwy konwolucyjne i wydobądź ich wagi\n",
    "    for (name1, layer1), (name2, layer2) in zip(model.left_branch.named_modules(), model.right_branch.named_modules()):\n",
    "        if isinstance(layer1, torch.nn.Conv2d) and isinstance(layer2, torch.nn.Conv2d):\n",
    "            # Pobierz wagi\n",
    "            weights1 = layer1.weight.data.cpu().numpy()\n",
    "            weights2 = layer2.weight.data.cpu().numpy()\n",
    "\n",
    "            # Spłaszcz wagi\n",
    "            num_filters1 = weights1.shape[0]\n",
    "            num_filters2 = weights2.shape[0]\n",
    "            flattened_weights1 = weights1.reshape(num_filters1, -1)\n",
    "            flattened_weights2 = weights2.reshape(num_filters2, -1)\n",
    "            colors = np.where(np.arange(2 * flattened_weights1.shape[0]) < flattened_weights1.shape[0], 'blue', 'red')\n",
    "\n",
    "            # 2. Zastosuj UMAP do redukcji wymiarów\n",
    "            if reducer == 'umap':\n",
    "                embedding = umap.UMAP(n_components=2, n_neighbors=10, densmap=True).fit_transform(np.concatenate([flattened_weights1, flattened_weights2]))\n",
    "            elif reducer == 'tsne':\n",
    "                embedding = TSNE(n_components=2).fit_transform(np.concatenate([flattened_weights1, flattened_weights2]))\n",
    "            print('DIMS', embedding.shape, flattened_weights1.shape, flattened_weights2.shape)\n",
    "            \n",
    "            \n",
    "            pca1 = PCA()\n",
    "            singular_values1 = pca1.fit(flattened_weights1).singular_values_\n",
    "            square_stable_rank1 = round((singular_values1 ** 2).sum() / singular_values1[0] ** 2, 4)\n",
    "            \n",
    "            pca2 = PCA()\n",
    "            singular_values2 = pca2.fit(flattened_weights2).singular_values_\n",
    "            square_stable_rank2 = round((singular_values2 ** 2).sum() / singular_values2[0] ** 2, 4)\n",
    "\n",
    "            # 3. Wizualizacja\n",
    "            # fig = plt.figure()\n",
    "            # ax = fig.add_subplot(111, projection='3d')\n",
    "            # ax.scatter(embedding[:, 0], embedding[:, 1], embedding[:, 2], c=colors, marker='o')\n",
    "            # plt.title(f'UMAP Visualization of Weights in Layer {name1} which has {num_filters1} neurons and Layer {name2} which has {num_filters2}')\n",
    "            # ax.set_xlabel('Component 1')\n",
    "            # ax.set_ylabel('Component 2')\n",
    "            # ax.set_zlabel('Component 3')\n",
    "            # plt.show()\n",
    "            \n",
    "            title = f'UMAP Visualization of Weights in Layer {name1} which has {num_filters1} neurons and Square Stable Rank of {square_stable_rank1} and Layer {name2} which has {num_filters2} neurons and Square Stable Rank of {square_stable_rank2}'\n",
    "            \n",
    "            plt.figure(figsize=(10, 6))\n",
    "            plt.scatter(embedding[:, 0], embedding[:, 1], marker='.', c=colors, label=colors)\n",
    "            plt.title(title)\n",
    "            plt.xlabel('Component 1')\n",
    "            plt.ylabel('Component 2')\n",
    "            plt.show()\n"
   ]
  },
  {
   "cell_type": "code",
   "execution_count": null,
   "metadata": {},
   "outputs": [],
   "source": [
    "import plotly.graph_objects as go\n",
    "import ipywidgets as widgets\n",
    "from IPython.display import display, clear_output\n",
    "import time\n",
    "\n",
    "\n",
    "def display_neurons_plotly_3d(model, reducer):\n",
    "\n",
    "    # 1. Załaduj przetrenowany model ResNet50\n",
    "    model.eval()\n",
    "\n",
    "    # Przejrzyj warstwy konwolucyjne i wydobądź ich wagi\n",
    "    for (name1, layer1), (name2, layer2) in zip(model.left_branch.named_modules(), model.right_branch.named_modules()):\n",
    "        if isinstance(layer1, torch.nn.Conv2d) and isinstance(layer2, torch.nn.Conv2d):\n",
    "            # Pobierz wagi\n",
    "            dd = input()\n",
    "            weights1 = layer1.weight.data.cpu().numpy()\n",
    "            weights2 = layer2.weight.data.cpu().numpy()\n",
    "\n",
    "            # Spłaszcz wagi\n",
    "            num_filters1 = weights1.shape[0]\n",
    "            num_filters2 = weights2.shape[0]\n",
    "            flattened_weights1 = weights1.reshape(num_filters1, -1)\n",
    "            flattened_weights2 = weights2.reshape(num_filters2, -1)\n",
    "            colors = np.where(np.arange(2 * flattened_weights1.shape[0]) < flattened_weights1.shape[0], 'blue', 'red')  # left - blue, right - red\n",
    "            \n",
    "            pca1 = PCA()\n",
    "            singular_values1 = pca1.fit(flattened_weights1).singular_values_\n",
    "            square_stable_rank1 = round((singular_values1 ** 2).sum() / singular_values1[0] ** 2, 4)\n",
    "            \n",
    "            pca2 = PCA()\n",
    "            singular_values2 = pca2.fit(flattened_weights2).singular_values_\n",
    "            square_stable_rank2 = round((singular_values2 ** 2).sum() / singular_values2[0] ** 2, 4)\n",
    "\n",
    "            # 2. Zastosuj UMAP do redukcji wymiarów\n",
    "            if reducer == 'umap':\n",
    "                embedding = umap.UMAP(n_components=3, n_neighbors=20, densmap=True).fit_transform(np.concatenate([flattened_weights1, flattened_weights2]))\n",
    "            elif reducer == 'tsne':\n",
    "                embedding = TSNE(n_components=3).fit_transform(np.concatenate([flattened_weights1, flattened_weights2]))\n",
    "            print('DIMS', embedding.shape, flattened_weights1.shape, flattened_weights2.shape)\n",
    "\n",
    "            title = f'UMAP Visualization of Weights in Layer {name1} which has {num_filters1} neurons and Square Stable Rank of {square_stable_rank1} and Layer {name2} which has {num_filters2} neurons and Square Stable Rank of {square_stable_rank2}'\n",
    "            fig = go.Figure(data=[go.Scatter3d(x=embedding[:,0], y=embedding[:,1], z=embedding[:,2],\n",
    "                                       mode='markers',\n",
    "                                       marker=dict(size=5, opacity=0.8, color=colors))])\n",
    "            fig.update_layout(title=title)\n",
    "            clear_output(wait=True)  # Czyszczenie poprzedniego wykresu\n",
    "            display(fig)            # Wyświetlanie nowego wykresu\n"
   ]
  },
  {
   "cell_type": "code",
   "execution_count": null,
   "metadata": {},
   "outputs": [],
   "source": [
    "model_name = 'mm_resnet'\n",
    "checkpoint_path = '/net/pr2/projects/plgrid/plgg_ccbench/bartek/reports2/all_at_once, training with phase1=0, phase2=180, phase3=0, phase4=0, mm_cifar10, mm_resnet, sgd, overlap=0.0_lr=0.5_wd=0.0_lambda=1.0/2023-12-22_03-19-13/checkpoints/model_step_epoch_180.pth'\n",
    "\n",
    "model_clean = load_model(model_name, checkpoint_path)\n",
    "display_neurons_2d(model_clean, reducer='tsne')"
   ]
  },
  {
   "cell_type": "code",
   "execution_count": null,
   "metadata": {},
   "outputs": [],
   "source": [
    "model_name = 'mm_resnet'\n",
    "checkpoint_path = '/net/pr2/projects/plgrid/plgg_ccbench/bartek/reports2/all_at_once, training with phase1=80, phase2=100, phase3=0, phase4=0, mm_cifar10, mm_resnet, sgd, overlap=0.0_lr=0.5_wd=0.0_lambda=1.0/2023-12-22_02-18-18/checkpoints/model_step_epoch_180.pth'\n",
    "\n",
    "model_dirty = load_model(model_name, checkpoint_path)\n",
    "display_neurons_via_umap(model_dirty)"
   ]
  },
  {
   "cell_type": "code",
   "execution_count": null,
   "metadata": {},
   "outputs": [],
   "source": [
    "import plotly.graph_objects as go\n",
    "import numpy as np\n",
    "\n",
    "# Przykładowe dane\n",
    "x = np.random.rand(100)\n",
    "y = np.random.rand(100)\n",
    "z = np.random.rand(100)\n",
    "\n",
    "# Tworzenie wykresu\n",
    "fig = go.Figure(data=[go.Scatter3d(x=x, y=y, z=z,\n",
    "                                   mode='markers',\n",
    "                                   marker=dict(size=5,\n",
    "                                               color=z,  # kolorowanie punktów w zależności od wartości z\n",
    "                                               colorscale='Viridis',  # wybór palety kolorów\n",
    "                                               opacity=0.8))])\n",
    "\n",
    "# Aktualizacja układu wykresu\n",
    "fig.update_layout(margin=dict(l=0, r=0, b=0, t=0), scene=dict(\n",
    "                    xaxis_title='X Axis',\n",
    "                    yaxis_title='Y Axis',\n",
    "                    zaxis_title='Z Axis'))\n",
    "\n",
    "fig.show()\n"
   ]
  },
  {
   "cell_type": "code",
   "execution_count": null,
   "metadata": {},
   "outputs": [],
   "source": [
    "model_name = 'mm_resnet'\n",
    "checkpoint_path = '/net/pr2/projects/plgrid/plgg_ccbench/bartek/reports2/all_at_once, training with phase1=0, phase2=180, phase3=0, phase4=0, mm_cifar10, mm_resnet, sgd, overlap=0.0_lr=0.5_wd=0.0_lambda=1.0/2023-12-22_03-19-13/checkpoints/model_step_epoch_180.pth'\n",
    "\n",
    "model_dirty = load_model(model_name, checkpoint_path)\n",
    "display_neurons_plotly_3d(model_dirty, reducer='tsne')"
   ]
  },
  {
   "cell_type": "code",
   "execution_count": null,
   "metadata": {},
   "outputs": [],
   "source": [
    "model_name = 'mm_resnet'\n",
    "checkpoint_path = '/net/pr2/projects/plgrid/plgg_ccbench/bartek/reports2/all_at_once, training with phase1=80, phase2=100, phase3=0, phase4=0, mm_cifar10, mm_resnet, sgd, overlap=0.0_lr=0.5_wd=0.0_lambda=1.0/2023-12-22_02-18-18/checkpoints/model_step_epoch_180.pth'\n",
    "\n",
    "model_dirty = load_model(model_name, checkpoint_path)\n",
    "display_neurons_via_umap_plotly(model_dirty)"
   ]
  },
  {
   "cell_type": "code",
   "execution_count": null,
   "metadata": {},
   "outputs": [],
   "source": [
    "model_name = 'mm_resnet'\n",
    "checkpoint_path = '/net/pr2/projects/plgrid/plgg_ccbench/bartek/reports2/all_at_once, training with phase1=180, phase2=0, phase3=0, phase4=0, mm_cifar10, mm_resnet, sgd, overlap=0.0_lr=0.5_wd=0.0_lambda=1.0/2023-12-27_06-20-56/checkpoints/model_step_epoch_180.pth'\n",
    "\n",
    "model_mug = load_model(model_name, checkpoint_path)\n",
    "display_neurons_via_umap_plotly(model_mug)"
   ]
  },
  {
   "cell_type": "code",
   "execution_count": null,
   "metadata": {},
   "outputs": [],
   "source": [
    "import numpy as np\n",
    "\n",
    "# Przykładowy zbiór punktów\n",
    "flattened_weights1 = torch.tensor(np.random.rand(100, 5))  # 1\n",
    "\n",
    "from sklearn.decomposition import PCA\n",
    "\n",
    "pca1 = PCA()\n",
    "singular_values1 = pca1.fit(flattened_weights1).singular_values_\n",
    "square_stable_rank1 = round((singular_values1 ** 2).sum() / singular_values1[0] ** 2, 4)\n",
    "\n",
    "# Wyświetlenie wariancji wyjaśnionej przez każdą składową\n",
    "print(\"Wariancja wyjaśniona przez każdą składową:\", pca1.explained_variance_ratio_, ', SSR:', square_stable_rank1)\n"
   ]
  },
  {
   "cell_type": "code",
   "execution_count": null,
   "metadata": {},
   "outputs": [],
   "source": [
    "(singular_values1 ** 2).sum() / flattened_weights1.shape[0] - total_variance(flattened_weights1)"
   ]
  },
  {
   "cell_type": "code",
   "execution_count": null,
   "metadata": {},
   "outputs": [],
   "source": [
    "first_conv_layer = model_clean.conv11.weight.data"
   ]
  },
  {
   "cell_type": "code",
   "execution_count": null,
   "metadata": {},
   "outputs": [],
   "source": [
    "first_conv_layer.shape"
   ]
  },
  {
   "cell_type": "code",
   "execution_count": null,
   "metadata": {},
   "outputs": [],
   "source": [
    "import matplotlib.pyplot as plt\n",
    "\n",
    "# Zakładamy, że wagi są w formacie (liczba_filtrów, kanały, wysokość, szerokość)\n",
    "num_filters = first_conv_layer.shape[0]\n",
    "\n",
    "# Ustawienie parametrów wykresu\n",
    "fig, axes = plt.subplots(8, 8, figsize=(12, 12))\n",
    "# normalized_weights = (first_conv_layer - first_conv_layer.min()) / (first_conv_layer.max() - first_conv_layer.min())\n",
    "\n",
    "\n",
    "for i, ax in enumerate(axes.flat):\n",
    "    # Wyświetlenie wag w siatce 8x8\n",
    "    if i < first_conv_layer.shape[0]:  # Sprawdzenie, czy i-ty filtr istnieje\n",
    "        weight_rgb = np.transpose(first_conv_layer[i], (1, 2, 0))\n",
    "        ax.imshow(weight_rgb)\n",
    "        ax.axis('off')\n",
    "    else:\n",
    "        ax.axis('off')\n",
    "\n",
    "plt.show()\n"
   ]
  },
  {
   "cell_type": "code",
   "execution_count": null,
   "metadata": {},
   "outputs": [],
   "source": []
  }
 ],
 "metadata": {
  "kernelspec": {
   "display_name": "clpi_env",
   "language": "python",
   "name": "python3"
  },
  "language_info": {
   "codemirror_mode": {
    "name": "ipython",
    "version": 3
   },
   "file_extension": ".py",
   "mimetype": "text/x-python",
   "name": "python",
   "nbconvert_exporter": "python",
   "pygments_lexer": "ipython3",
   "version": "3.10.13"
  }
 },
 "nbformat": 4,
 "nbformat_minor": 2
}
